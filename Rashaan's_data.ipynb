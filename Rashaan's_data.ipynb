{
  "nbformat": 4,
  "nbformat_minor": 0,
  "metadata": {
    "colab": {
      "provenance": [],
      "authorship_tag": "ABX9TyPWR6yuBnHE850QsoYYxZvt",
      "include_colab_link": true
    },
    "kernelspec": {
      "name": "python3",
      "display_name": "Python 3"
    },
    "language_info": {
      "name": "python"
    }
  },
  "cells": [
    {
      "cell_type": "markdown",
      "metadata": {
        "id": "view-in-github",
        "colab_type": "text"
      },
      "source": [
        "<a href=\"https://colab.research.google.com/github/Rashaan26/Open-file/blob/main/Rashaan's_data.ipynb\" target=\"_parent\"><img src=\"https://colab.research.google.com/assets/colab-badge.svg\" alt=\"Open In Colab\"/></a>"
      ]
    },
    {
      "cell_type": "code",
      "source": [
        "!pip install requests pandas matplotlib\n"
      ],
      "metadata": {
        "colab": {
          "base_uri": "https://localhost:8080/"
        },
        "id": "4A5jnMVniIYF",
        "outputId": "a514eca6-2a60-4a02-ece9-ff64870db9b9"
      },
      "execution_count": null,
      "outputs": [
        {
          "output_type": "stream",
          "name": "stdout",
          "text": [
            "Requirement already satisfied: requests in /usr/local/lib/python3.11/dist-packages (2.32.3)\n",
            "Requirement already satisfied: pandas in /usr/local/lib/python3.11/dist-packages (2.2.2)\n",
            "Requirement already satisfied: matplotlib in /usr/local/lib/python3.11/dist-packages (3.10.0)\n",
            "Requirement already satisfied: charset-normalizer<4,>=2 in /usr/local/lib/python3.11/dist-packages (from requests) (3.4.1)\n",
            "Requirement already satisfied: idna<4,>=2.5 in /usr/local/lib/python3.11/dist-packages (from requests) (3.10)\n",
            "Requirement already satisfied: urllib3<3,>=1.21.1 in /usr/local/lib/python3.11/dist-packages (from requests) (2.3.0)\n",
            "Requirement already satisfied: certifi>=2017.4.17 in /usr/local/lib/python3.11/dist-packages (from requests) (2025.1.31)\n",
            "Requirement already satisfied: numpy>=1.23.2 in /usr/local/lib/python3.11/dist-packages (from pandas) (1.26.4)\n",
            "Requirement already satisfied: python-dateutil>=2.8.2 in /usr/local/lib/python3.11/dist-packages (from pandas) (2.8.2)\n",
            "Requirement already satisfied: pytz>=2020.1 in /usr/local/lib/python3.11/dist-packages (from pandas) (2025.1)\n",
            "Requirement already satisfied: tzdata>=2022.7 in /usr/local/lib/python3.11/dist-packages (from pandas) (2025.1)\n",
            "Requirement already satisfied: contourpy>=1.0.1 in /usr/local/lib/python3.11/dist-packages (from matplotlib) (1.3.1)\n",
            "Requirement already satisfied: cycler>=0.10 in /usr/local/lib/python3.11/dist-packages (from matplotlib) (0.12.1)\n",
            "Requirement already satisfied: fonttools>=4.22.0 in /usr/local/lib/python3.11/dist-packages (from matplotlib) (4.55.8)\n",
            "Requirement already satisfied: kiwisolver>=1.3.1 in /usr/local/lib/python3.11/dist-packages (from matplotlib) (1.4.8)\n",
            "Requirement already satisfied: packaging>=20.0 in /usr/local/lib/python3.11/dist-packages (from matplotlib) (24.2)\n",
            "Requirement already satisfied: pillow>=8 in /usr/local/lib/python3.11/dist-packages (from matplotlib) (11.1.0)\n",
            "Requirement already satisfied: pyparsing>=2.3.1 in /usr/local/lib/python3.11/dist-packages (from matplotlib) (3.2.1)\n",
            "Requirement already satisfied: six>=1.5 in /usr/local/lib/python3.11/dist-packages (from python-dateutil>=2.8.2->pandas) (1.17.0)\n"
          ]
        }
      ]
    },
    {
      "cell_type": "code",
      "source": [
        "import requests\n",
        "import pandas as pd\n",
        "import matplotlib.pyplot as plt"
      ],
      "metadata": {
        "id": "YvT2vaXGiOAd"
      },
      "execution_count": null,
      "outputs": []
    },
    {
      "cell_type": "code",
      "source": [
        " url = f\"https://api.openweathermap.org/data/2.5/weather?q=London&appid=fcbe41fd328d75e4c5043b1ad14f4b29&units=metric\"\n",
        "\n",
        "data = response.json()\n",
        "print(data)"
      ],
      "metadata": {
        "colab": {
          "base_uri": "https://localhost:8080/"
        },
        "id": "h5Rgw1zDiULO",
        "outputId": "91eea861-f578-4185-e21e-00a83681d66d"
      },
      "execution_count": null,
      "outputs": [
        {
          "output_type": "stream",
          "name": "stdout",
          "text": [
            "{'coord': {'lon': -0.1257, 'lat': 51.5085}, 'weather': [{'id': 804, 'main': 'Clouds', 'description': 'overcast clouds', 'icon': '04d'}], 'base': 'stations', 'main': {'temp': 4.35, 'feels_like': 2.07, 'temp_min': 3.9, 'temp_max': 5.07, 'pressure': 1018, 'humidity': 88, 'sea_level': 1018, 'grnd_level': 1013}, 'visibility': 10000, 'wind': {'speed': 2.57, 'deg': 340}, 'clouds': {'all': 100}, 'dt': 1739286153, 'sys': {'type': 2, 'id': 2075535, 'country': 'GB', 'sunrise': 1739258516, 'sunset': 1739293663}, 'timezone': 0, 'id': 2643743, 'name': 'London', 'cod': 200}\n"
          ]
        }
      ]
    },
    {
      "cell_type": "code",
      "source": [
        "if \"main\" in data:\n",
        "    city = data[\"name\"]\n",
        "    temp = data[\"main\"][\"temp\"]\n",
        "    humidity = data[\"main\"][\"humidity\"]\n",
        "    weather = data[\"weather\"][0][\"description\"]\n",
        "\n",
        "    print(f\"City: {city}\\nTemperature: {temp}°C\\nHumidity: {humidity}%\\nWeather: {weather}\")\n",
        "else:\n",
        "    print(\"Error fetching weather data.\")"
      ],
      "metadata": {
        "colab": {
          "base_uri": "https://localhost:8080/"
        },
        "id": "hOKwReACoM_P",
        "outputId": "b4e3f5e3-90d7-43f8-bdbc-26c75920b0e9"
      },
      "execution_count": null,
      "outputs": [
        {
          "output_type": "stream",
          "name": "stdout",
          "text": [
            "City: London\n",
            "Temperature: 4.35°C\n",
            "Humidity: 88%\n",
            "Weather: overcast clouds\n"
          ]
        }
      ]
    },
    {
      "cell_type": "code",
      "source": [
        "data_dict = {\n",
        "    \"City\": [city],\n",
        "    \"Temperature (°C)\": [temp],\n",
        "    \"Humidity (%)\": [humidity],\n",
        "    \"Weather Description\": [weather]\n",
        "}\n",
        "\n",
        "weather_df = pd.DataFrame(data_dict)\n",
        "print(weather_df)"
      ],
      "metadata": {
        "colab": {
          "base_uri": "https://localhost:8080/"
        },
        "id": "-NI-0v-JpGcF",
        "outputId": "ecf2219d-b53e-4455-b642-b82ddb2db775"
      },
      "execution_count": null,
      "outputs": [
        {
          "output_type": "stream",
          "name": "stdout",
          "text": [
            "     City  Temperature (°C)  Humidity (%) Weather Description\n",
            "0  London              4.35            88     overcast clouds\n"
          ]
        }
      ]
    },
    {
      "cell_type": "code",
      "source": [
        "plt.figure(figsize=(6,4))\n",
        "plt.bar(weather_df[\"City\"], weather_df[\"Temperature (°C)\"], color='skyblue')\n",
        "plt.xlabel(\"City\")\n",
        "plt.ylabel(\"Temperature (°C)\")\n",
        "plt.title(\"Current Temperature\")\n",
        "plt.show()"
      ],
      "metadata": {
        "colab": {
          "base_uri": "https://localhost:8080/",
          "height": 410
        },
        "id": "9YlgQKwupQIk",
        "outputId": "1ccc29d6-39d8-4bbf-e95c-fda3b3973d4d"
      },
      "execution_count": null,
      "outputs": [
        {
          "output_type": "display_data",
          "data": {
            "text/plain": [
              "<Figure size 600x400 with 1 Axes>"
            ],
            "image/png": "[encoded data removed]"
          },
          "metadata": {}
        }
      ]
    },
    {
      "cell_type": "code",
      "source": [
        "cities = [\"London\", \"New York\", \"Paris\", \"Tokyo\", \"Sydney\"]\n",
        "weather_data = []\n",
        "\n",
        "for city in cities:\n",
        "    url = f\"https://api.openweathermap.org/data/2.5/weather?q={city}&appid=fcbe41fd328d75e4c5043b1ad14f4b29&units=metric\"\n",
        "    response = requests.get(url)\n",
        "    data = response.json()\n",
        "\n",
        "    if \"main\" in data:\n",
        "        weather_data.append({\n",
        "            \"City\": city,\n",
        "            \"Temperature (°C)\": data[\"main\"][\"temp\"],\n",
        "            \"Humidity (%)\": data[\"main\"][\"humidity\"],\n",
        "            \"Weather Description\": data[\"weather\"][0][\"description\"]\n",
        "        })\n",
        "\n",
        "# Convert to DataFrame\n",
        "multi_city_df = pd.DataFrame(weather_data)\n",
        "print(multi_city_df)"
      ],
      "metadata": {
        "colab": {
          "base_uri": "https://localhost:8080/"
        },
        "id": "G12NueUes0sk",
        "outputId": "d52381af-6ac8-4ae2-d273-e20dc8252839"
      },
      "execution_count": null,
      "outputs": [
        {
          "output_type": "stream",
          "name": "stdout",
          "text": [
            "       City  Temperature (°C)  Humidity (%) Weather Description\n",
            "0    London              4.30            89     overcast clouds\n",
            "1  New York             -0.13            49           clear sky\n",
            "2     Paris              6.27            73     overcast clouds\n",
            "3     Tokyo              2.95            45           clear sky\n",
            "4    Sydney             19.70            86    scattered clouds\n"
          ]
        }
      ]
    },
    {
      "cell_type": "code",
      "source": [
        "plt.figure(figsize=(8,5))\n",
        "plt.bar(multi_city_df[\"City\"], multi_city_df[\"Temperature (°C)\"], color='coral')\n",
        "plt.xlabel(\"City\")\n",
        "plt.ylabel(\"Temperature (°C)\")\n",
        "plt.title(\"Weather Comparison Across Cities\")\n",
        "plt.show()"
      ],
      "metadata": {
        "colab": {
          "base_uri": "https://localhost:8080/",
          "height": 487
        },
        "id": "y8Ba_dawtes-",
        "outputId": "abcc0bf6-0df6-4d6f-cf9c-4abef1ad0261"
      },
      "execution_count": null,
      "outputs": [
        {
          "output_type": "display_data",
          "data": {
            "text/plain": [
              "<Figure size 800x500 with 1 Axes>"
            ],
            "image/png": "[encoded data removed]"
          },
          "metadata": {}
        }
      ]
    },
    {
      "cell_type": "code",
      "source": [],
      "metadata": {
        "id": "o7LHsV-Otm7x"
      },
      "execution_count": null,
      "outputs": []
    }
  ]
}
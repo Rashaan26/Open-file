{
  "nbformat": 4,
  "nbformat_minor": 0,
  "metadata": {
    "colab": {
      "provenance": [],
      "authorship_tag": "ABX9TyMKLBr1j11o+/09zlqYfXoB",
      "include_colab_link": true
    },
    "kernelspec": {
      "name": "python3",
      "display_name": "Python 3"
    },
    "language_info": {
      "name": "python"
    }
  },
  "cells": [
    {
      "cell_type": "markdown",
      "metadata": {
        "id": "view-in-github",
        "colab_type": "text"
      },
      "source": [
        "<a href=\"https://colab.research.google.com/github/Rashaan26/Open-file/blob/main/Lesson_3_word_vectors.ipynb\" target=\"_parent\"><img src=\"https://colab.research.google.com/assets/colab-badge.svg\" alt=\"Open In Colab\"/></a>"
      ]
    },
    {
      "cell_type": "code",
      "source": [
        "\n",
        "word_vectors = {}\n",
        "\n",
        "for i in range(4):\n",
        "    word = input(f\"🌟 Enter word {i + 1}: \")\n",
        "    x = float(input(f\"Enter x value for {word}: \"))\n",
        "    y = float(input(f\"Enter y value for {word}: \"))\n",
        "    word_vectors[word] = [x, y]\n",
        "\n",
        "print(\"\\n🔢 Word Vectors:\", word_vectors)\n"
      ],
      "metadata": {
        "colab": {
          "base_uri": "https://localhost:8080/"
        },
        "id": "kS5TT9nF8Vaz",
        "outputId": "96b98032-689d-4204-a1b3-4ed71eae1bae"
      },
      "execution_count": 25,
      "outputs": [
        {
          "output_type": "stream",
          "name": "stdout",
          "text": [
            "🌟 Enter word 1: moon\n",
            "Enter x value for moon: 7\n",
            "Enter y value for moon: 10\n",
            "🌟 Enter word 2: planet \n",
            "Enter x value for planet : 22\n",
            "Enter y value for planet : 14\n",
            "🌟 Enter word 3: earth\n",
            "Enter x value for earth: 13\n",
            "Enter y value for earth: 3\n",
            "🌟 Enter word 4: pluto \n",
            "Enter x value for pluto : 2\n",
            "Enter y value for pluto : 4\n",
            "\n",
            "🔢 Word Vectors: {'moon': [7.0, 10.0], 'planet ': [22.0, 14.0], 'earth': [13.0, 3.0], 'pluto ': [2.0, 4.0]}\n"
          ]
        }
      ]
    },
    {
      "cell_type": "code",
      "source": [
        "import matplotlib.pyplot as plt\n",
        "\n",
        "def plot_word_vectors(word_vectors):\n",
        "    for word, vector in word_vectors.items():\n",
        "        plt.scatter(vector[0], vector[1])\n",
        "        plt.text(vector[0] + 0.1, vector[1], word, fontsize=12)\n",
        "\n",
        "    plt.title('📌 Word Vector Space (2D)')\n",
        "    plt.xlabel('Dimension 1')\n",
        "    plt.ylabel('Dimension 2')\n",
        "    plt.grid()\n",
        "    plt.show()\n",
        "\n",
        "plot_word_vectors(word_vectors)"
      ],
      "metadata": {
        "colab": {
          "base_uri": "https://localhost:8080/",
          "height": 472
        },
        "id": "BOL2KwB2_NVq",
        "outputId": "9024c369-0fc1-406a-bd3c-b5e5bb34c695"
      },
      "execution_count": 20,
      "outputs": [
        {
          "output_type": "display_data",
          "data": {
            "text/plain": [
              "<Figure size 640x480 with 1 Axes>"
            ],
            "image/png": "[encoded data removed]"
          },
          "metadata": {}
        }
      ]
    },
    {
      "cell_type": "code",
      "source": [
        "import numpy as np\n",
        "\n",
        "# Step 3: Cosine Similarity Calculation\n",
        "def cosine_similarity(vector1, vector2):\n",
        "    dot_product = np.dot(vector1, vector2)\n",
        "    magnitude1 = np.linalg.norm(vector1)\n",
        "    magnitude2 = np.linalg.norm(vector2)\n",
        "    return dot_product / (magnitude1 * magnitude2)\n",
        "\n",
        "# Get user input for two words to compare\n",
        "word1 = input(\"🔍 Enter the first word to compare: \")\n",
        "word2 = input(\"🔍 Enter the second word to compare: \")\n",
        "\n",
        "# Calculate and print cosine similarity\n",
        "if word1 in word_vectors and word2 in word_vectors:\n",
        "    similarity = cosine_similarity(word_vectors[word1], word_vectors[word2])\n",
        "    print(f\"\\n📏 Cosine similarity between '{word1}' and '{word2}': {similarity:.4f}\")\n",
        "else:\n",
        "    print(\"⚠️ One of the words is not in the word vector dictionary.\")"
      ],
      "metadata": {
        "id": "VsXrwf5E_e44"
      },
      "execution_count": null,
      "outputs": []
    },
    {
      "cell_type": "code",
      "source": [
        "from mpl_toolkits.mplot3d import Axes3D\n",
        "\n",
        "# Step 4: Define 3D Word Vectors\n",
        "word_vectors_3d = {27}\n",
        "\n",
        "for i in range(4):\n",
        "    word = input(f\"🌟 Enter word {i + 1}: \")\n",
        "    x = float(input(f\"Enter x value for {word}: \"))\n",
        "    y = float(input(f\"Enter y value for {word}: \"))\n",
        "    z = float(input(f\"Enter z value for {word}: \"))\n",
        "    word_vectors_3d[word] = [x, y, z]\n",
        "\n",
        "# Step 4: Visualizing 3D Word Vectors\n",
        "def plot_word_vectors_3d(word_vectors_3d):\n",
        "    fig = plt.figure()\n",
        "    ax = fig.add_subplot(111, projection='3d')\n",
        "    for word, vector in word_vectors_3d.items():\n",
        "        ax.scatter(vector[0], vector[1], vector[2])\n",
        "        ax.text(vector[0], vector[1], vector[2], word, fontsize=12)\n",
        "\n",
        "    ax.set_title('🌍 Word Vector Space (3D)')\n",
        "    ax.set_xlabel('Dimension 1')\n",
        "    ax.set_ylabel('Dimension 2')\n",
        "    ax.set_zlabel('Dimension 3')\n",
        "    plt.show()\n",
        "\n",
        "plot_word_vectors_3d(word_vectors_3d)"
      ],
      "metadata": {
        "id": "GlA6ZjZ0OOd-"
      },
      "execution_count": null,
      "outputs": []
    }
  ]
}